{
 "cells": [
  {
   "cell_type": "code",
   "execution_count": 1,
   "id": "da935ecd",
   "metadata": {},
   "outputs": [
    {
     "name": "stdout",
     "output_type": "stream",
     "text": [
      "Jumlah gambar mobil yang dimuat: 153\n",
      "Jumlah frame dalam video: 3606\n"
     ]
    }
   ],
   "source": [
    "import sys\n",
    "import os\n",
    "import pandas as pd\n",
    "import matplotlib.pyplot as plt\n",
    "import seaborn as sns\n",
    "\n",
    "sys.path.append(os.path.abspath('../src'))\n",
    "\n",
    "from data.load_data import load_images_from_folder, load_video\n",
    "\n",
    "\n",
    "folder_path = '../data/raw/mobil'\n",
    "images = load_images_from_folder(folder_path)\n",
    "print(f\"Jumlah gambar mobil yang dimuat: {len(images)}\")\n",
    "\n",
    "# Memuat video mobil\n",
    "video_path = '../data/raw/videosm.mp4'\n",
    "frames = load_video(video_path)\n",
    "print(f\"Jumlah frame dalam video: {len(frames)}\")"
   ]
  },
  {
   "cell_type": "code",
   "execution_count": null,
   "id": "6c3b07d1",
   "metadata": {},
   "outputs": [],
   "source": []
  }
 ],
 "metadata": {
  "kernelspec": {
   "display_name": "venv",
   "language": "python",
   "name": "python3"
  },
  "language_info": {
   "codemirror_mode": {
    "name": "ipython",
    "version": 3
   },
   "file_extension": ".py",
   "mimetype": "text/x-python",
   "name": "python",
   "nbconvert_exporter": "python",
   "pygments_lexer": "ipython3",
   "version": "3.12.5"
  }
 },
 "nbformat": 4,
 "nbformat_minor": 5
}
